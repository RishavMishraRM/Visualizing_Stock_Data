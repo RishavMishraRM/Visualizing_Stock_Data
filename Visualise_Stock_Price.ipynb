{
 "cells": [
  {
   "cell_type": "code",
   "execution_count": 5,
   "metadata": {},
   "outputs": [
    {
     "name": "stderr",
     "output_type": "stream",
     "text": [
      "C:\\Users\\Rishav\\anaconda3\\envs\\tensorflow_env\\lib\\site-packages\\mpl_finance.py:22: DeprecationWarning: \n",
      "\n",
      "  =================================================================\n",
      "\n",
      "   WARNING: `mpl_finance` is deprecated:\n",
      "\n",
      "    Please use `mplfinance` instead (no hyphen, no underscore).\n",
      "\n",
      "    To install: `pip install --upgrade mplfinance` \n",
      "\n",
      "   For more information, see: https://pypi.org/project/mplfinance/\n",
      "\n",
      "  =================================================================\n",
      "\n",
      "  category=DeprecationWarning)\n"
     ]
    },
    {
     "data": {
      "image/png": "[encoded data removed]",
      "text/plain": [
       "<Figure size 432x288 with 1 Axes>"
      ]
     },
     "metadata": {},
     "output_type": "display_data"
    },
    {
     "ename": "KeyboardInterrupt",
     "evalue": "",
     "output_type": "error",
     "traceback": [
      "\u001b[1;31m---------------------------------------------------------------------------\u001b[0m",
      "\u001b[1;31mKeyboardInterrupt\u001b[0m                         Traceback (most recent call last)",
      "\u001b[1;32m<ipython-input-5-408cb2fa0f3c>\u001b[0m in \u001b[0;36m<module>\u001b[1;34m\u001b[0m\n\u001b[0;32m     72\u001b[0m \u001b[0mbtn_visualize\u001b[0m\u001b[1;33m.\u001b[0m\u001b[0mpack\u001b[0m\u001b[1;33m(\u001b[0m\u001b[1;33m)\u001b[0m\u001b[1;33m\u001b[0m\u001b[1;33m\u001b[0m\u001b[0m\n\u001b[0;32m     73\u001b[0m \u001b[1;33m\u001b[0m\u001b[0m\n\u001b[1;32m---> 74\u001b[1;33m \u001b[0mroot\u001b[0m\u001b[1;33m.\u001b[0m\u001b[0mmainloop\u001b[0m\u001b[1;33m(\u001b[0m\u001b[1;33m)\u001b[0m\u001b[1;33m\u001b[0m\u001b[1;33m\u001b[0m\u001b[0m\n\u001b[0m",
      "\u001b[1;32m~\\anaconda3\\envs\\tensorflow_env\\lib\\tkinter\\__init__.py\u001b[0m in \u001b[0;36mmainloop\u001b[1;34m(self, n)\u001b[0m\n\u001b[0;32m   1281\u001b[0m     \u001b[1;32mdef\u001b[0m \u001b[0mmainloop\u001b[0m\u001b[1;33m(\u001b[0m\u001b[0mself\u001b[0m\u001b[1;33m,\u001b[0m \u001b[0mn\u001b[0m\u001b[1;33m=\u001b[0m\u001b[1;36m0\u001b[0m\u001b[1;33m)\u001b[0m\u001b[1;33m:\u001b[0m\u001b[1;33m\u001b[0m\u001b[1;33m\u001b[0m\u001b[0m\n\u001b[0;32m   1282\u001b[0m         \u001b[1;34m\"\"\"Call the mainloop of Tk.\"\"\"\u001b[0m\u001b[1;33m\u001b[0m\u001b[1;33m\u001b[0m\u001b[0m\n\u001b[1;32m-> 1283\u001b[1;33m         \u001b[0mself\u001b[0m\u001b[1;33m.\u001b[0m\u001b[0mtk\u001b[0m\u001b[1;33m.\u001b[0m\u001b[0mmainloop\u001b[0m\u001b[1;33m(\u001b[0m\u001b[0mn\u001b[0m\u001b[1;33m)\u001b[0m\u001b[1;33m\u001b[0m\u001b[1;33m\u001b[0m\u001b[0m\n\u001b[0m\u001b[0;32m   1284\u001b[0m     \u001b[1;32mdef\u001b[0m \u001b[0mquit\u001b[0m\u001b[1;33m(\u001b[0m\u001b[0mself\u001b[0m\u001b[1;33m)\u001b[0m\u001b[1;33m:\u001b[0m\u001b[1;33m\u001b[0m\u001b[1;33m\u001b[0m\u001b[0m\n\u001b[0;32m   1285\u001b[0m         \u001b[1;34m\"\"\"Quit the Tcl interpreter. All widgets will be destroyed.\"\"\"\u001b[0m\u001b[1;33m\u001b[0m\u001b[1;33m\u001b[0m\u001b[0m\n",
      "\u001b[1;31mKeyboardInterrupt\u001b[0m: "
     ]
    }
   ],
   "source": [
    "# Imports\n",
    "from tkinter import *\n",
    "from tkcalendar import DateEntry\n",
    "import datetime as dt\n",
    "\n",
    "import pandas_datareader as web\n",
    "import matplotlib.pyplot as plt\n",
    "import matplotlib.dates as mdates\n",
    "from mpl_finance import candlestick_ohlc\n",
    "\n",
    "'''\n",
    "Function for visualizing stock data\n",
    "Using Candlestick Charts\n",
    "'''\n",
    "def visualize():\n",
    "\n",
    "    # Get Dates From DateEntry and Convert It To Datetime\n",
    "    from_date = cal_from.get_date()\n",
    "    to_date = cal_to.get_date()\n",
    "\n",
    "    start = dt.datetime(from_date.year, from_date.month, from_date.day)\n",
    "    end = dt.datetime(to_date.year, to_date.month, to_date.day)\n",
    "\n",
    "    # Load Ticker From Entry And Download Data\n",
    "    ticker = text_ticker.get()\n",
    "    data = web.DataReader(ticker, 'yahoo', start, end)\n",
    "\n",
    "    # Restructure Data Into OHLC Format\n",
    "    data = data[['Open', 'High', 'Low', 'Close']]\n",
    "\n",
    "    # Reset Index And Convert Dates Into Numerical Format\n",
    "    data.reset_index(inplace=True)\n",
    "    data['Date'] = data['Date'].map(mdates.date2num)\n",
    "\n",
    "    # Adjust Style Of The Plot\n",
    "    ax = plt.subplot()\n",
    "    ax.grid(True)\n",
    "    ax.set_axisbelow(True)\n",
    "    ax.set_title('{} Share Price'.format(ticker), color='white')\n",
    "    ax.figure.canvas.set_window_title('NeuralNine Stock Visualizer v0.1 Alpha')\n",
    "    ax.set_facecolor('black')\n",
    "    ax.figure.set_facecolor('#121212')\n",
    "    ax.tick_params(axis='x', colors='white')\n",
    "    ax.tick_params(axis='y', colors='white')\n",
    "    ax.xaxis_date()\n",
    "\n",
    "    # Plot The Candlestick Chart\n",
    "    candlestick_ohlc(ax, data.values, width=0.5, colorup='#00ff00')\n",
    "    plt.show()\n",
    "\n",
    "# Define Main Window\n",
    "root = Tk()\n",
    "root.title(\"NeuralNine Stock Visualizer v0.1 Alpha\")\n",
    "\n",
    "# Add Components And Link Function\n",
    "label_from = Label(root, text=\"From:\")\n",
    "label_from.pack()\n",
    "cal_from = DateEntry(root, width=50, year=2010, month=1, day=1)\n",
    "cal_from.pack(padx=10, pady=10)\n",
    "\n",
    "label_to = Label(root, text=\"To:\")\n",
    "label_to.pack()\n",
    "cal_to = DateEntry(root, width=50)\n",
    "cal_to.pack(padx=10, pady=10)\n",
    "\n",
    "label_ticker = Label(root, text=\"Ticker Symbol:\")\n",
    "label_ticker.pack()\n",
    "text_ticker = Entry(root)\n",
    "text_ticker.pack()\n",
    "\n",
    "btn_visualize = Button(root, text=\"Visualize\", command=visualize)\n",
    "btn_visualize.pack()\n",
    "\n",
    "root.mainloop()"
   ]
  },
  {
   "cell_type": "code",
   "execution_count": null,
   "metadata": {},
   "outputs": [],
   "source": []
  },
  {
   "cell_type": "code",
   "execution_count": null,
   "metadata": {},
   "outputs": [],
   "source": []
  },
  {
   "cell_type": "code",
   "execution_count": null,
   "metadata": {},
   "outputs": [],
   "source": []
  }
 ],
 "metadata": {
  "kernelspec": {
   "display_name": "Python 3",
   "language": "python",
   "name": "python3"
  },
  "language_info": {
   "codemirror_mode": {
    "name": "ipython",
    "version": 3
   },
   "file_extension": ".py",
   "mimetype": "text/x-python",
   "name": "python",
   "nbconvert_exporter": "python",
   "pygments_lexer": "ipython3",
   "version": "3.7.7"
  }
 },
 "nbformat": 4,
 "nbformat_minor": 4
}
